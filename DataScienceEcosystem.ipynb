{
 "cells": [
  {
   "cell_type": "markdown",
   "id": "a5f8bd7e-ada2-4d18-ab60-77daa3933627",
   "metadata": {},
   "source": [
    "# Data Science Tools and Ecosystem"
   ]
  },
  {
   "cell_type": "markdown",
   "id": "de4c88aa-7a60-4a88-b4c7-344acb28825a",
   "metadata": {},
   "source": [
    "In this notebook, Data Science Tools and Ecosystem are summarized."
   ]
  },
  {
   "cell_type": "markdown",
   "id": "745aad7e-8f0b-49ae-a1dc-6f0f00fc053e",
   "metadata": {},
   "source": [
    "**Objectives:**\n",
    "- List popular languages for Data Science\n",
    "- List of libraries used in data science\n",
    "- Example of arithmetic expressions in Python"
   ]
  },
  {
   "cell_type": "markdown",
   "id": "6442810e-94ab-44b3-bd4b-024becb0e6d7",
   "metadata": {},
   "source": [
    "Some of the popular languages that Data Scientists use are:\n",
    "1. Python\n",
    "2. R\n",
    "3. SQL\n",
    "4. C++\n",
    "5. Julia"
   ]
  },
  {
   "cell_type": "markdown",
   "id": "674b7c93-3657-4053-a221-1404d3d93bf0",
   "metadata": {},
   "source": [
    "Some of the commonly used libraries used by Data Scientists include:\n",
    "- Pandas\n",
    "- NumPy\n",
    "- SciPy\n",
    "- TensorFlow"
   ]
  },
  {
   "cell_type": "markdown",
   "id": "cc6eed97-6fd7-4abe-8964-e7f19a575b75",
   "metadata": {},
   "source": [
    "| Data Science Tools |\n",
    "|--------------------|\n",
    "| Jupyther Notebook |\n",
    "| RStudio |\n",
    "| Apache Spark |"
   ]
  },
  {
   "cell_type": "markdown",
   "id": "41a89d57-5185-475c-af83-378d3ed0c82d",
   "metadata": {},
   "source": [
    "### Below are a few examples of evaluating arithmetic expressions in Python"
   ]
  },
  {
   "cell_type": "markdown",
   "id": "e201109e-19fd-42fc-b412-97218a36ae02",
   "metadata": {},
   "source": [
    "his a simple arithmetic expression to mutiply then add integers"
   ]
  },
  {
   "cell_type": "code",
   "execution_count": 1,
   "id": "f1f89ed4-a117-4ce9-8295-b693efbb41e3",
   "metadata": {
    "tags": []
   },
   "outputs": [
    {
     "data": {
      "text/plain": [
       "17"
      ]
     },
     "execution_count": 1,
     "metadata": {},
     "output_type": "execute_result"
    }
   ],
   "source": [
    "(3*4)+5"
   ]
  },
  {
   "cell_type": "markdown",
   "id": "c685353c-5740-48a8-963b-1868beca7f84",
   "metadata": {},
   "source": [
    "This will convert 200 minutes to hours by diving by 60"
   ]
  },
  {
   "cell_type": "code",
   "execution_count": 2,
   "id": "da587a35-e0b0-473a-8af6-3f03135bacb2",
   "metadata": {
    "tags": []
   },
   "outputs": [
    {
     "data": {
      "text/plain": [
       "relativedelta(hours=+3, minutes=+20)"
      ]
     },
     "execution_count": 2,
     "metadata": {},
     "output_type": "execute_result"
    }
   ],
   "source": [
    "from dateutil.relativedelta import relativedelta\n",
    "relativedelta (minutes=200)"
   ]
  },
  {
   "cell_type": "markdown",
   "id": "cc6d4b7a-0950-4846-9fc2-76c4eb070566",
   "metadata": {},
   "source": [
    "## Author\n",
    "Valérie GHIRINGHELLI"
   ]
  },
  {
   "cell_type": "code",
   "execution_count": null,
   "id": "2a1fdc28-f3ab-4a20-80b8-e2b36d85484e",
   "metadata": {},
   "outputs": [],
   "source": []
  }
 ],
 "metadata": {
  "kernelspec": {
   "display_name": "Python",
   "language": "python",
   "name": "conda-env-python-py"
  },
  "language_info": {
   "codemirror_mode": {
    "name": "ipython",
    "version": 3
   },
   "file_extension": ".py",
   "mimetype": "text/x-python",
   "name": "python",
   "nbconvert_exporter": "python",
   "pygments_lexer": "ipython3",
   "version": "3.7.12"
  }
 },
 "nbformat": 4,
 "nbformat_minor": 5
}
